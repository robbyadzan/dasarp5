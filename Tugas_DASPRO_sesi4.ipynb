{
 "cells": [
  {
   "cell_type": "code",
   "execution_count": 2,
   "id": "2c251815-4254-4035-b83c-f181c8b92057",
   "metadata": {},
   "outputs": [
    {
     "name": "stdout",
     "output_type": "stream",
     "text": [
      "160 = 165 False\n",
      "160 != 165 True\n",
      "160 < 165 True\n",
      "160 > 165 False\n",
      "jadi yang paling tinggi adalah andi sebesar 165 cm\n"
     ]
    }
   ],
   "source": [
    "siti = 160 \n",
    "andi = 165\n",
    "\n",
    "print(siti, \"=\",andi,siti==andi)\n",
    "print(siti, \"!=\",andi,siti!=andi)\n",
    "print(siti, \"<\",andi,siti<andi)\n",
    "print(siti, \">\",andi,siti>andi)\n",
    "\n",
    "print(\"jadi yang paling tinggi adalah andi sebesar\",andi,\"cm\")"
   ]
  },
  {
   "cell_type": "code",
   "execution_count": 4,
   "id": "27131052-9566-43a4-b640-b99142e7c3bb",
   "metadata": {},
   "outputs": [
    {
     "name": "stdout",
     "output_type": "stream",
     "text": [
      "apakah budi bisa bermain di luar True\n"
     ]
    }
   ],
   "source": [
    "cuacaCerah = True\n",
    "prSelesai = True\n",
    "\n",
    "bisaBermain = cuacaCerah and prSelesai\n",
    "print(\"apakah budi bisa bermain di luar\",bisaBermain)"
   ]
  },
  {
   "cell_type": "code",
   "execution_count": 6,
   "id": "9a65f9d4-472d-4adc-8fac-b165aff32208",
   "metadata": {},
   "outputs": [
    {
     "name": "stdout",
     "output_type": "stream",
     "text": [
      "angka biner dari AND adalah: 0b10\n",
      "angka biner dari OR adalah: 0b111\n",
      "angka biner dari XOR adalah: 0b101\n"
     ]
    }
   ],
   "source": [
    "num1 = 6\n",
    "num2 = 3\n",
    "\n",
    "hasilAnd = num1 & num2\n",
    "print(\"angka biner dari AND adalah:\",bin(hasilAnd))\n",
    "\n",
    "\n",
    "hasilOr = num1 | num2\n",
    "print(\"angka biner dari OR adalah:\",bin(hasilOr))\n",
    "\n",
    "hasilXor = num1 ^ num2\n",
    "print(\"angka biner dari XOR adalah:\",bin(hasilXor))"
   ]
  },
  {
   "cell_type": "code",
   "execution_count": 8,
   "id": "b195caeb-e56f-4b07-9d37-a70922fbdb86",
   "metadata": {},
   "outputs": [
    {
     "name": "stdout",
     "output_type": "stream",
     "text": [
      "uangAwal 50000\n",
      "setelah di tambah 20000 = 70000\n",
      "dia membeli paket internet sebesar 30000 = 40000\n"
     ]
    }
   ],
   "source": [
    "uangAwal = 50000\n",
    "print(\"uangAwal\",uangAwal)\n",
    "uangAwal += 20000\n",
    "print(\"setelah di tambah 20000 =\",uangAwal)\n",
    "uangAwal -= 30000\n",
    "print(\"dia membeli paket internet sebesar 30000 =\",uangAwal)"
   ]
  },
  {
   "cell_type": "code",
   "execution_count": 10,
   "id": "92b7024c-89ac-485e-b7a0-54835a8c89e5",
   "metadata": {},
   "outputs": [
    {
     "name": "stdout",
     "output_type": "stream",
     "text": [
      "apakah terdaftar? False\n",
      "apakah kata pyhton ada di kalimat True\n"
     ]
    }
   ],
   "source": [
    "name = \"eka\"\n",
    "daftarPesertaLomba = [\"andi\",\"budi\",\"citra\",\"dewi\"]\n",
    "hasil = name in daftarPesertaLomba\n",
    "print(\"apakah terdaftar?\",hasil)\n",
    "\n",
    "kalimat = \"saya suka belajar bahasa pyhton\"\n",
    "kataYangDiCari = \"pyhton\"\n",
    "hasil = kataYangDiCari in kalimat\n",
    "print(\"apakah kata\",kataYangDiCari,\"ada di kalimat\",hasil)"
   ]
  },
  {
   "cell_type": "code",
   "execution_count": 12,
   "id": "b5e8e72c-72fd-44ea-a413-7ef4936ed0c1",
   "metadata": {},
   "outputs": [
    {
     "name": "stdout",
     "output_type": "stream",
     "text": [
      "apakah x dan y mengacu pada objek yang sama? True\n",
      "apakah a dan b mengacu pada objek yang sama? True\n",
      "apakah list1 dan list2 mengacu pada objek yang sama? False\n"
     ]
    }
   ],
   "source": [
    "x = 20\n",
    "y = 20\n",
    "\n",
    "hasil = x is y\n",
    "print(\"apakah x dan y mengacu pada objek yang sama?\",hasil)\n",
    "\n",
    "a = \"sayang\"\n",
    "b = \"sayang\"\n",
    "\n",
    "hasil = a is b\n",
    "print(\"apakah a dan b mengacu pada objek yang sama?\",hasil)\n",
    "\n",
    "list1 = [\"12\",\"13\",\"14\"]\n",
    "list2 = [\"12\",\"13\",\"14\"]\n",
    "\n",
    "hasil = list1 is list2\n",
    "print(\"apakah list1 dan list2 mengacu pada objek yang sama?\",hasil)"
   ]
  },
  {
   "cell_type": "code",
   "execution_count": 14,
   "id": "1d053b20-60ae-498c-a19c-aaf2a3877131",
   "metadata": {},
   "outputs": [
    {
     "name": "stdout",
     "output_type": "stream",
     "text": [
      "Lebih besar dari 100\n",
      "Tidak lebih besar dari 100\n"
     ]
    },
    {
     "name": "stdin",
     "output_type": "stream",
     "text": [
      "isi nilai 100\n"
     ]
    },
    {
     "name": "stdout",
     "output_type": "stream",
     "text": [
      "Lulus\n"
     ]
    },
    {
     "name": "stdin",
     "output_type": "stream",
     "text": [
      "isi nilai 100\n"
     ]
    },
    {
     "name": "stdout",
     "output_type": "stream",
     "text": [
      "Lulus\n"
     ]
    }
   ],
   "source": [
    "angka = 150\n",
    "hasil = (\"Tidak lebih besar dari 100\", \"Lebih besar dari 100\")[angka > 100]\n",
    "print(hasil)\n",
    "\n",
    "angka2 = 50\n",
    "hasil2 = (\"Tidak lebih besar dari 100\", \"Lebih besar dari 100\")[angka2 > 100]\n",
    "print(hasil2)\n",
    "\n",
    "nilai_ujian = int(input(\"isi nilai\"))\n",
    "status = (\"Tidak Lulus\", \"Lulus\")[nilai_ujian > 70]\n",
    "print(status)\n",
    "\n",
    "nilai_ujian2 = int(input(\"isi nilai\"))\n",
    "status2 = (\"Tidak Lulus\", \"Lulus\")[nilai_ujian2 > 70]\n",
    "print(status2)"
   ]
  },
  {
   "cell_type": "code",
   "execution_count": 16,
   "id": "96938fc1-99a6-490e-9b3d-470e57bcd84e",
   "metadata": {},
   "outputs": [
    {
     "name": "stdout",
     "output_type": "stream",
     "text": [
      "Lebih besar dari 100\n",
      "Tidak lebih besar dari 100\n"
     ]
    },
    {
     "name": "stdin",
     "output_type": "stream",
     "text": [
      "isi nilai 100\n"
     ]
    },
    {
     "name": "stdout",
     "output_type": "stream",
     "text": [
      "Lulus\n"
     ]
    },
    {
     "name": "stdin",
     "output_type": "stream",
     "text": [
      "isi nilai 100\n"
     ]
    },
    {
     "name": "stdout",
     "output_type": "stream",
     "text": [
      "Lulus\n"
     ]
    }
   ],
   "source": [
    "angka = 150\n",
    "hasil = \"Lebih besar dari 100\" if angka > 100 else \"Tidak lebih besar dari 100\"\n",
    "print(hasil)\n",
    "\n",
    "angka2 = 50\n",
    "hasil2 = \"Lebih besar dari 100\" if angka2 > 100 else \"Tidak lebih besar dari 100\"\n",
    "print(hasil2)\n",
    "\n",
    "nilai_ujian = int(input(\"isi nilai\"))\n",
    "status = \"Lulus\" if nilai_ujian > 70 else \"Tidak Lulus\"\n",
    "print(status)\n",
    "\n",
    "nilai_ujian2 = int(input(\"isi nilai\"))\n",
    "status2 = \"Lulus\" if nilai_ujian2 > 70 else \"Tidak Lulus\"\n",
    "print(status2)"
   ]
  },
  {
   "cell_type": "code",
   "execution_count": null,
   "id": "fc0de8c3-e801-4152-9ffd-149c1d33d04e",
   "metadata": {},
   "outputs": [],
   "source": []
  }
 ],
 "metadata": {
  "kernelspec": {
   "display_name": "Python [conda env:base] *",
   "language": "python",
   "name": "conda-base-py"
  },
  "language_info": {
   "codemirror_mode": {
    "name": "ipython",
    "version": 3
   },
   "file_extension": ".py",
   "mimetype": "text/x-python",
   "name": "python",
   "nbconvert_exporter": "python",
   "pygments_lexer": "ipython3",
   "version": "3.12.7"
  }
 },
 "nbformat": 4,
 "nbformat_minor": 5
}
